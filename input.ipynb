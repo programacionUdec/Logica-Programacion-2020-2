{
 "cells": [
  {
   "cell_type": "markdown",
   "metadata": {},
   "source": [
    "Programa: input.ipynb\n",
    "autor: miembros del grupo de trabajo\n",
    "Objetivo del programa: Entender el funcionamiento de la función input()\n",
    "Creado: mioecoles 23 de spe 2020"
   ]
  },
  {
   "cell_type": "code",
   "execution_count": 1,
   "metadata": {},
   "outputs": [],
   "source": [
    "#Programa: input.ipynb\n",
    "#autor: miembros del grupo de trabajo\n",
    "#Objetivo del programa: Entender el funcionamiento de la función input() y las salidas con formato especifico\n",
    "#Creado: miercoles 23 de sep 2020"
   ]
  },
  {
   "cell_type": "code",
   "execution_count": 2,
   "metadata": {},
   "outputs": [
    {
     "name": "stdout",
     "output_type": "stream",
     "text": [
      "34\n",
      "34\n"
     ]
    }
   ],
   "source": [
    "#obtener un texto\n",
    "texto_capturado=input()\n",
    "print(texto_capturado)\n",
    "#notan que el usuario no tiene pistas acerca de una entrada?"
   ]
  },
  {
   "cell_type": "code",
   "execution_count": 3,
   "metadata": {},
   "outputs": [
    {
     "name": "stdout",
     "output_type": "stream",
     "text": [
      "Introduce un texto por favor:\n",
      "fdg\n",
      "Este es el texto capturado: fdg\n"
     ]
    }
   ],
   "source": [
    "print(\"Introduce un texto por favor:\")\n",
    "texto_capturado1=input()\n",
    "print(\"Este es el texto capturado:\",texto_capturado1)"
   ]
  },
  {
   "cell_type": "code",
   "execution_count": 4,
   "metadata": {},
   "outputs": [
    {
     "name": "stdout",
     "output_type": "stream",
     "text": [
      "Introduce un numero por favor:\n",
      "3\n",
      "Este es el numero capturado: 3.0\n"
     ]
    }
   ],
   "source": [
    "#capturar un numero\n",
    "print(\"Introduce un numero por favor:\")\n",
    "numero_capturado=input()\n",
    "numero=float(numero_capturado)\n",
    "print(\"Este es el numero capturado:\",numero)"
   ]
  },
  {
   "cell_type": "code",
   "execution_count": 5,
   "metadata": {},
   "outputs": [
    {
     "name": "stdout",
     "output_type": "stream",
     "text": [
      "ingrese por favor un numero entero:\n",
      "3\n",
      "el ingresado es: 3 ese multiplicado por 2 es: 6\n"
     ]
    }
   ],
   "source": [
    "print(\"ingrese por favor un numero entero:\")\n",
    "numero2=int(input())\n",
    "print(\"el ingresado es:\",numero2,\"ese multiplicado por 2 es:\",numero2*2)"
   ]
  },
  {
   "cell_type": "code",
   "execution_count": 6,
   "metadata": {},
   "outputs": [
    {
     "name": "stdout",
     "output_type": "stream",
     "text": [
      "Este programa recibe un numero e imprime las potencias 3 \n",
      "\n",
      "Introduce un numero entero:\n",
      "4\n",
      "Tipo de variable a procesar: <class 'int'>\n"
     ]
    }
   ],
   "source": [
    "#salidas con formato\n",
    "#formatos: %d para enteros, %f para flotantes, %s para strings\n",
    "print(\"Este programa recibe un numero e imprime las potencias 3 \\n\")\n",
    "print(\"Introduce un numero entero:\")\n",
    "numero3=int(input())\n",
    "print(\"Tipo de variable a procesar:\",type(numero3))"
   ]
  },
  {
   "cell_type": "code",
   "execution_count": 7,
   "metadata": {},
   "outputs": [
    {
     "name": "stdout",
     "output_type": "stream",
     "text": [
      "4 elevado a 3 es 64\n"
     ]
    }
   ],
   "source": [
    "print('%d elevado a %d es %d'%(numero3,3,numero3**3))"
   ]
  },
  {
   "cell_type": "code",
   "execution_count": 8,
   "metadata": {},
   "outputs": [
    {
     "name": "stdout",
     "output_type": "stream",
     "text": [
      "4.000000 elevado a 3 es 64.000000\n"
     ]
    }
   ],
   "source": [
    "print('%f elevado a %d es %f'%(numero3,3,numero3**3))"
   ]
  },
  {
   "cell_type": "code",
   "execution_count": 9,
   "metadata": {},
   "outputs": [
    {
     "name": "stdout",
     "output_type": "stream",
     "text": [
      "4.00 elevado a 3 es 64.000000\n"
     ]
    }
   ],
   "source": [
    "print('%.2f elevado a %d es %f'%(numero3,3,numero3**3))"
   ]
  },
  {
   "cell_type": "code",
   "execution_count": 10,
   "metadata": {},
   "outputs": [
    {
     "name": "stdout",
     "output_type": "stream",
     "text": [
      "  4.00 elevado a 3 es 64.000000\n"
     ]
    }
   ],
   "source": [
    "print('%6.2f elevado a %d es %f'%(numero3,3,numero3**3))"
   ]
  },
  {
   "cell_type": "code",
   "execution_count": 11,
   "metadata": {},
   "outputs": [
    {
     "name": "stdout",
     "output_type": "stream",
     "text": [
      " 3.561e+02\n"
     ]
    }
   ],
   "source": [
    "print(\"%10.3e\"% (356.08977))"
   ]
  },
  {
   "cell_type": "code",
   "execution_count": null,
   "metadata": {},
   "outputs": [],
   "source": []
  }
 ],
 "metadata": {
  "kernelspec": {
   "display_name": "Python 3",
   "language": "python",
   "name": "python3"
  },
  "language_info": {
   "codemirror_mode": {
    "name": "ipython",
    "version": 3
   },
   "file_extension": ".py",
   "mimetype": "text/x-python",
   "name": "python",
   "nbconvert_exporter": "python",
   "pygments_lexer": "ipython3",
   "version": "3.6.8"
  }
 },
 "nbformat": 4,
 "nbformat_minor": 2
}
