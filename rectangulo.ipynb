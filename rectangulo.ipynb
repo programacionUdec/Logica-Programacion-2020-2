{
 "cells": [
  {
   "cell_type": "markdown",
   "metadata": {},
   "source": [
    "Ejercicio:\n",
    "Escriba un programa que calcule el area y perimetro de un rectangulo, en esta ocasión el programa le pide al usuario que ingrese los datos de altura y ancho en metros y que el tipo de entrada del dato sea flotante. La salida debe imprimir, un mensaje índicando que dato es el perimetro y cual es el area, la salida debe tener formato 6.2f"
   ]
  },
  {
   "cell_type": "code",
   "execution_count": 1,
   "metadata": {},
   "outputs": [],
   "source": [
    "#Programa: rectangulo.ipynb\n",
    "#autor: miembros del grupo de trabajo\n",
    "#Objetivo del programa: calcular el area y perimetro de un rectangulo y practica la salida con formato 6.2f\n",
    "#Creado: miercoles 23 de sep 2020"
   ]
  },
  {
   "cell_type": "code",
   "execution_count": 4,
   "metadata": {},
   "outputs": [
    {
     "name": "stdout",
     "output_type": "stream",
     "text": [
      "Dame la altura (en metros): 2.8\n",
      "Dame la anchura (en metros): 57.9\n"
     ]
    }
   ],
   "source": [
    "#1. Peticion de los datos (en metros)\n",
    "altura=float(input(\"Dame la altura (en metros): \"))\n",
    "anchura=float(input(\"Dame la anchura (en metros): \"))"
   ]
  },
  {
   "cell_type": "code",
   "execution_count": 8,
   "metadata": {},
   "outputs": [
    {
     "name": "stdout",
     "output_type": "stream",
     "text": [
      "el perimetro es 121.40 metros:\n",
      "el area es 162.12 metros cuadrados\n"
     ]
    }
   ],
   "source": [
    "#2. definir area y perimetro \n",
    "perimetro=2*altura+2*anchura\n",
    "area=altura*anchura\n",
    "\n",
    "#3. impresion del resultado con el fomato 6.2f \n",
    "print(\"el perimetro es %6.2f metros:\" %(perimetro))\n",
    "print('el area es %6.2f metros cuadrados' %(area))"
   ]
  },
  {
   "cell_type": "code",
   "execution_count": null,
   "metadata": {},
   "outputs": [],
   "source": [
    "\n"
   ]
  },
  {
   "cell_type": "code",
   "execution_count": null,
   "metadata": {},
   "outputs": [],
   "source": []
  }
 ],
 "metadata": {
  "kernelspec": {
   "display_name": "Python 3",
   "language": "python",
   "name": "python3"
  },
  "language_info": {
   "codemirror_mode": {
    "name": "ipython",
    "version": 3
   },
   "file_extension": ".py",
   "mimetype": "text/x-python",
   "name": "python",
   "nbconvert_exporter": "python",
   "pygments_lexer": "ipython3",
   "version": "3.6.8"
  }
 },
 "nbformat": 4,
 "nbformat_minor": 2
}
