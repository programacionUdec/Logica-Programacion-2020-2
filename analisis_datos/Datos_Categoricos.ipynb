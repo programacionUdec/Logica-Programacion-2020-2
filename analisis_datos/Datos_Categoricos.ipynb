{
 "cells": [
  {
   "cell_type": "code",
   "execution_count": 1,
   "metadata": {},
   "outputs": [],
   "source": [
    "import numpy as np\n",
    "import matplotlib.pyplot as plt"
   ]
  },
  {
   "cell_type": "code",
   "execution_count": 2,
   "metadata": {},
   "outputs": [],
   "source": [
    "datos=np.loadtxt('/Users/usuario-mac/Desktop/CLASES/programacion/parte1/2020_1/3Corte/ejercicio/Datos_Peso.dat')"
   ]
  },
  {
   "cell_type": "code",
   "execution_count": 3,
   "metadata": {},
   "outputs": [],
   "source": [
    "#puedo acceder a columnas particulares\n",
    "peso=datos[:,0]\n",
    "altura=datos[:,1]\n",
    "genero=np.int_(datos[:,2])\n",
    "edad=np.int_(datos[:,3])"
   ]
  },
  {
   "cell_type": "code",
   "execution_count": 4,
   "metadata": {},
   "outputs": [
    {
     "name": "stdout",
     "output_type": "stream",
     "text": [
      "23 14\n"
     ]
    }
   ],
   "source": [
    "ninas0=(edad<=19) & (genero==0)\n",
    "ninas=ninas0[ninas0]\n",
    "ninosH0=(edad<=19) & (genero==1)\n",
    "ninosH=ninosH0[ninosH0]\n",
    "\n",
    "print(len(ninas),len(ninosH))"
   ]
  },
  {
   "cell_type": "code",
   "execution_count": 5,
   "metadata": {},
   "outputs": [
    {
     "name": "stdout",
     "output_type": "stream",
     "text": [
      "55 41\n"
     ]
    }
   ],
   "source": [
    "mujerA0=(edad>19) & (genero==0)\n",
    "mujerA=mujerA0[mujerA0]\n",
    "        \n",
    "hombreA0=(edad>19) & (genero==1)\n",
    "hombreA=hombreA0[hombreA0]\n",
    "\n",
    "print(len(mujerA),len(hombreA))"
   ]
  },
  {
   "cell_type": "code",
   "execution_count": 9,
   "metadata": {},
   "outputs": [
    {
     "name": "stdout",
     "output_type": "stream",
     "text": [
      "[0 1 2 3]\n"
     ]
    }
   ],
   "source": [
    "#1 Paso, definir las categorias:\n",
    "\n",
    "categorias=['Niños','Niñas','Hombres','Mujeres']\n",
    "personas=[len(ninosH),len(ninas),len(hombreA),len(mujerA)]\n",
    "x = np.arange(len(categorias))\n",
    "print(x)\n",
    "width = 0.2"
   ]
  },
  {
   "cell_type": "code",
   "execution_count": 14,
   "metadata": {},
   "outputs": [
    {
     "data": {
      "text/plain": [
       "Text(0.5, 1.0, 'Poblacion estudiada')"
      ]
     },
     "execution_count": 14,
     "metadata": {},
     "output_type": "execute_result"
    },
    {
     "data": {
      "image/png": "[encoded data removed]",
      "text/plain": [
       "<Figure size 432x288 with 1 Axes>"
      ]
     },
     "metadata": {
      "needs_background": "light"
     },
     "output_type": "display_data"
    }
   ],
   "source": [
    "fig, ax = plt.subplots()\n",
    "rect = ax.bar(x , personas, width,color='b')\n",
    "ax.set_xticks(x)\n",
    "ax.set_xticklabels(categorias)\n",
    "ax.set_ylabel('No de personas')\n",
    "ax.set_xlabel('Población')\n",
    "ax.set_title('Poblacion estudiada')"
   ]
  },
  {
   "cell_type": "code",
   "execution_count": null,
   "metadata": {},
   "outputs": [],
   "source": []
  }
 ],
 "metadata": {
  "kernelspec": {
   "display_name": "Python 3",
   "language": "python",
   "name": "python3"
  },
  "language_info": {
   "codemirror_mode": {
    "name": "ipython",
    "version": 3
   },
   "file_extension": ".py",
   "mimetype": "text/x-python",
   "name": "python",
   "nbconvert_exporter": "python",
   "pygments_lexer": "ipython3",
   "version": "3.6.8"
  }
 },
 "nbformat": 4,
 "nbformat_minor": 4
}
