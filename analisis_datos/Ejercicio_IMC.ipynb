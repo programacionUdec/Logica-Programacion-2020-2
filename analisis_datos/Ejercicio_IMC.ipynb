{
 "cells": [
  {
   "cell_type": "code",
   "execution_count": 1,
   "metadata": {},
   "outputs": [],
   "source": [
    "#plantilla"
   ]
  },
  {
   "cell_type": "code",
   "execution_count": 2,
   "metadata": {},
   "outputs": [],
   "source": [
    "import numpy as np\n",
    "import matplotlib.pyplot as plt"
   ]
  },
  {
   "cell_type": "code",
   "execution_count": 4,
   "metadata": {},
   "outputs": [],
   "source": [
    "datos=np.loadtxt('/Users/usuario-mac/Desktop/CLASES/programacion/2020-2/9clase/Datos_Peso.dat')\n",
    "#print(datos)"
   ]
  },
  {
   "cell_type": "code",
   "execution_count": 9,
   "metadata": {},
   "outputs": [
    {
     "name": "stdout",
     "output_type": "stream",
     "text": [
      "60.509239130434786 15.906345174564203\n",
      "1.6046739130434782 0.15172881334055036\n",
      "31.63586956521739 15.94123093769969\n"
     ]
    }
   ],
   "source": [
    "#puedo acceder a columnas particulares\n",
    "\n",
    "peso=datos[:,0]\n",
    "altura=datos[:,1]\n",
    "genero=np.int_(datos[:,2])\n",
    "edad=np.int_(datos[:,3])\n",
    "\n",
    "#print(genero)\n",
    "print(np.mean(peso),np.std(peso))\n",
    "print(np.mean(altura),np.std(altura))\n",
    "print(np.mean(edad),np.std(edad))"
   ]
  },
  {
   "cell_type": "code",
   "execution_count": 13,
   "metadata": {},
   "outputs": [
    {
     "name": "stdout",
     "output_type": "stream",
     "text": [
      "111 73\n"
     ]
    }
   ],
   "source": [
    "mujeres0= genero==0\n",
    "hombres0= genero==1\n",
    "\n",
    "mujeres=genero[mujeres0]\n",
    "hombres=genero[hombres0]\n",
    "\n",
    "print(len(mujeres),len(hombres))"
   ]
  },
  {
   "cell_type": "code",
   "execution_count": 17,
   "metadata": {},
   "outputs": [
    {
     "data": {
      "image/png": "[encoded data removed]",
      "text/plain": [
       "<Figure size 432x288 with 1 Axes>"
      ]
     },
     "metadata": {
      "needs_background": "light"
     },
     "output_type": "display_data"
    }
   ],
   "source": [
    "plt.hist(mujeres,label='Mujeres')\n",
    "plt.hist(hombres,label='Hombres')\n",
    "plt.legend()\n",
    "plt.savefig('histo1.png')"
   ]
  },
  {
   "cell_type": "code",
   "execution_count": 20,
   "metadata": {},
   "outputs": [
    {
     "name": "stdout",
     "output_type": "stream",
     "text": [
      "56 128\n"
     ]
    }
   ],
   "source": [
    "#clasificar niños de adultos ya que el IMC para niños-adolecentes es diferente al de los adultos\n",
    "#niños-adolecentes=2-19 años\n",
    "\n",
    "ninos0=edad<=19 #definicion niños\n",
    "adultos0=edad>19 #definicion adultos\n",
    "\n",
    "ninos=edad[ninos0]\n",
    "adultos=edad[adultos0]\n",
    "\n",
    "print(len(ninos),len(adultos))"
   ]
  },
  {
   "cell_type": "code",
   "execution_count": 25,
   "metadata": {},
   "outputs": [
    {
     "name": "stdout",
     "output_type": "stream",
     "text": [
      "18 38\n",
      "55 73\n"
     ]
    }
   ],
   "source": [
    "#discriminar entre hombres, mujeres, niños, niñas\n",
    "\n",
    "ninas0=(edad<=19) & (genero==0)\n",
    "ninas=ninas0[ninas0]\n",
    "\n",
    "\n",
    "ninosH0=(edad<=19) & (genero==1)\n",
    "ninosH=ninosH0[ninosH0]\n",
    "print(len(ninosH),len(ninas))\n",
    "\n",
    "mujerA0=(edad>19) & (genero==0)\n",
    "mujerA=mujerA0[mujerA0]\n",
    "\n",
    "\n",
    "hombreA0=(edad>19) & (genero==1)\n",
    "hombreA=hombreA0[hombreA0]\n",
    "\n",
    "print(len(hombreA),len(mujerA))\n"
   ]
  },
  {
   "cell_type": "code",
   "execution_count": 30,
   "metadata": {},
   "outputs": [
    {
     "data": {
      "image/png": "[encoded data removed]",
      "text/plain": [
       "<Figure size 432x288 with 1 Axes>"
      ]
     },
     "metadata": {
      "needs_background": "light"
     },
     "output_type": "display_data"
    }
   ],
   "source": [
    "plt.hist([mujerA,hombreA,ninas,ninosH],label=['Mujeres','Hombres','niñas','niños'])\n",
    "plt.legend()\n",
    "plt.xlim(1.0,1.2)\n",
    "plt.savefig('histo2.png')"
   ]
  },
  {
   "cell_type": "code",
   "execution_count": 35,
   "metadata": {},
   "outputs": [
    {
     "name": "stdout",
     "output_type": "stream",
     "text": [
      "55\n",
      "72.81818181818181 10.465685764076651\n",
      "1.7116363636363636 0.06372565164583217\n",
      "36.654545454545456 12.396800440316236\n"
     ]
    }
   ],
   "source": [
    "#Hombres\n",
    "#peso: peso=datos[:,0]\n",
    "#altura=datos[:,1]\n",
    "#hombreA0=(edad>19) & (genero==1) Hombre adulto\n",
    "\n",
    "pesoH=peso[hombreA0]\n",
    "alturaH=altura[hombreA0]\n",
    "edadH=edad[hombreA0]\n",
    "\n",
    "print(len(pesoH))\n",
    "print(np.mean(pesoH),np.std(pesoH))\n",
    "print(np.mean(alturaH),np.std(alturaH))\n",
    "print(np.mean(edadH),np.std(edadH))"
   ]
  },
  {
   "cell_type": "code",
   "execution_count": 36,
   "metadata": {},
   "outputs": [
    {
     "name": "stdout",
     "output_type": "stream",
     "text": [
      "73\n",
      "59.92739726027397 9.495857211681841\n",
      "1.5857534246575342 0.06529003381580514\n",
      "40.43835616438356 14.28380278340956\n"
     ]
    }
   ],
   "source": [
    "#mujeres\n",
    "#mujerA0=(edad>19) & (genero==0) mujer adulta\n",
    "\n",
    "pesoM=peso[mujerA0]\n",
    "alturaM=altura[mujerA0]\n",
    "edadM=edad[mujerA0]\n",
    "\n",
    "print(len(pesoM))\n",
    "print(np.mean(pesoM),np.std(pesoM))\n",
    "print(np.mean(alturaM),np.std(alturaM))\n",
    "print(np.mean(edadM),np.std(edadM))\n"
   ]
  },
  {
   "cell_type": "code",
   "execution_count": 44,
   "metadata": {},
   "outputs": [
    {
     "name": "stdout",
     "output_type": "stream",
     "text": [
      "ojo, adulto en desnutrición 3 [23 23 21]\n",
      "Felicitaciones, buenos habitos de nutricion 26\n",
      "ojo, sobre peso detectado, hay que cuidarse 21\n",
      "ojo, Obesidad 3\n",
      "ojo, Obesidad Grave 0\n"
     ]
    }
   ],
   "source": [
    "#IMC para Hombres\n",
    "\n",
    "IMCH=pesoH/(alturaH)**2\n",
    "\n",
    "#clasificación\n",
    "\n",
    "#Desnutricion\n",
    "desnutricionH= (IMCH< 20)\n",
    "#print(len(IMCH[desnutricionH]))\n",
    "print('ojo, adulto en desnutrición', len(IMCH[desnutricionH]),edadH[desnutricionH])\n",
    "\n",
    "#Normal\n",
    "normalH= (IMCH>=20) & (IMCH<=24.9)\n",
    "print('Felicitaciones, buenos habitos de nutricion', len(IMCH[normalH]))\n",
    "\n",
    "#Sobre Peso\n",
    "sobreP=(IMCH>=25) & (IMCH<=29.9)\n",
    "print('ojo, sobre peso detectado, hay que cuidarse', len(IMCH[sobreP]))\n",
    "\n",
    "#obesidad\n",
    "obesidad=(IMCH>=30) & (IMCH<=40)\n",
    "print('ojo, Obesidad', len(IMCH[obesidad]))\n",
    "\n",
    "#Obesidad Grave\n",
    "obesidad_G=(IMCH>40)\n",
    "print('ojo, Obesidad Grave', len(IMCH[obesidad_G]))"
   ]
  },
  {
   "cell_type": "code",
   "execution_count": 46,
   "metadata": {},
   "outputs": [
    {
     "name": "stdout",
     "output_type": "stream",
     "text": [
      "ojo, adulto Mujer en desnutrición 5 [21 75 24 20 20]\n",
      "Felicitaciones, buenos habitos de nutricion 37\n",
      "ojo, sobre peso detectado, hay que cuidarse 18\n",
      "ojo, Obesidad 10\n",
      "ojo, Obesidad Grave 3\n"
     ]
    }
   ],
   "source": [
    "#IMC para Mujeres\n",
    "\n",
    "IMCM=pesoM/(alturaM)**2\n",
    "\n",
    "#clasificacion\n",
    "#Desnutricion\n",
    "desnutricionM= (IMCM< 19)\n",
    "print('ojo, adulto Mujer en desnutrición', len(IMCM[desnutricionM]),edadM[desnutricionM])\n",
    "\n",
    "#Normal\n",
    "normalM= (IMCM>=19) & (IMCM<=23.9)\n",
    "print('Felicitaciones, buenos habitos de nutricion', len(IMCM[normalM]))\n",
    "\n",
    "#sobre peso\n",
    "sobreP_M=(IMCM>=24) & (IMCM<=27)\n",
    "print('ojo, sobre peso detectado, hay que cuidarse', len(IMCM[sobreP_M]))\n",
    "\n",
    "#obesidad\n",
    "obesidadM=(IMCM>=27) & (IMCM<=32)\n",
    "print('ojo, Obesidad', len(IMCM[obesidadM]))\n",
    "\n",
    "#obesidad Grave\n",
    "obesidad_GM=(IMCM>32)\n",
    "print('ojo, Obesidad Grave', len(IMCM[obesidad_GM]))\n"
   ]
  },
  {
   "cell_type": "code",
   "execution_count": 67,
   "metadata": {},
   "outputs": [
    {
     "data": {
      "text/plain": [
       "Text(0, 0.5, 'IMC de Mujeres')"
      ]
     },
     "execution_count": 67,
     "metadata": {},
     "output_type": "execute_result"
    },
    {
     "data": {
      "image/png": "[encoded data removed]",
      "text/plain": [
       "<Figure size 432x288 with 1 Axes>"
      ]
     },
     "metadata": {
      "needs_background": "light"
     },
     "output_type": "display_data"
    }
   ],
   "source": [
    "#edad mujers vs IMCM\n",
    "\n",
    "plt.scatter(edadM,IMCM,marker='o',alpha=0.5)\n",
    "plt.grid()\n",
    "plt.axhline(y=19,color='r',linestyle='-',label='desnutrición')\n",
    "plt.axhline(y=23.9,color='b', linestyle='-',label='normal')\n",
    "plt.axhline(y=27, color='y', linestyle='-',label='sobre peso')\n",
    "plt.axhline(y=32, color='g', linestyle='-',label='Obesidad')\n",
    "plt.legend()\n",
    "plt.xlabel('Edad de Mujeres')\n",
    "plt.ylabel('IMC de Mujeres')"
   ]
  },
  {
   "cell_type": "code",
   "execution_count": 70,
   "metadata": {},
   "outputs": [
    {
     "data": {
      "text/plain": [
       "Text(0, 0.5, 'IMC de Hombres')"
      ]
     },
     "execution_count": 70,
     "metadata": {},
     "output_type": "execute_result"
    },
    {
     "data": {
      "image/png": "[encoded data removed]",
      "text/plain": [
       "<Figure size 432x288 with 1 Axes>"
      ]
     },
     "metadata": {
      "needs_background": "light"
     },
     "output_type": "display_data"
    }
   ],
   "source": [
    "#edad Hombres vs IMCh\n",
    "\n",
    "plt.scatter(edadH,IMCH,alpha=0.5)\n",
    "plt.grid()\n",
    "plt.axhline(y=20, color='r', linestyle='-',label='desnutrición')\n",
    "plt.axhline(y=24.9, color='b', linestyle='-',label='normal')\n",
    "plt.axhline(y=29.9, color='y', linestyle='-',label='sobre peso')\n",
    "plt.axhline(y=40, color='g', linestyle='-',label='Obesidad')\n",
    "plt.legend()\n",
    "plt.xlabel('Edad de Hombres')\n",
    "plt.ylabel('IMC de Hombres')"
   ]
  },
  {
   "cell_type": "code",
   "execution_count": 83,
   "metadata": {},
   "outputs": [
    {
     "data": {
      "text/plain": [
       "Text(0.5, 0, 'Edad de Mujeres')"
      ]
     },
     "execution_count": 83,
     "metadata": {},
     "output_type": "execute_result"
    },
    {
     "data": {
      "image/png": "[encoded data removed]",
      "text/plain": [
       "<Figure size 432x288 with 2 Axes>"
      ]
     },
     "metadata": {
      "needs_background": "light"
     },
     "output_type": "display_data"
    }
   ],
   "source": [
    "fig, (ax1, ax2) = plt.subplots(1, 2)\n",
    "\n",
    "ax1.scatter(edadH,IMCH,alpha=0.5) #Hombres\n",
    "ax1.grid()\n",
    "ax1.axhline(y=20, color='r', linestyle='-')\n",
    "ax1.axhline(y=24.9, color='b', linestyle='-')\n",
    "ax1.axhline(y=29.9, color='y', linestyle='-')\n",
    "ax1.axhline(y=40, color='g', linestyle='-')\n",
    "ax1.set_title('Hombres')\n",
    "ax1.set_xlabel('Edad de Hombres')\n",
    "ax1.set_ylabel('IMC para los familiares de los estudiantes')\n",
    "\n",
    "\n",
    "#edad mujers vs IMCM\n",
    "\n",
    "ax2.scatter(edadM,IMCM,marker='*',alpha=0.5)\n",
    "ax2.grid()\n",
    "ax2.axhline(y=19,color='r',linestyle='-',label='desnutrición')\n",
    "ax2.axhline(y=23.9,color='b', linestyle='-',label='normal')\n",
    "ax2.axhline(y=27, color='y', linestyle='-',label='sobre peso')\n",
    "ax2.axhline(y=32, color='g', linestyle='-.',label='Obesidad')\n",
    "ax2.legend()\n",
    "ax2.set_title('Mujeres')\n",
    "ax2.set_xlabel('Edad de Mujeres')\n",
    "#ax2.set_ylabel('IMC de Mujeres')\n"
   ]
  },
  {
   "cell_type": "code",
   "execution_count": null,
   "metadata": {},
   "outputs": [],
   "source": []
  }
 ],
 "metadata": {
  "kernelspec": {
   "display_name": "Python 3",
   "language": "python",
   "name": "python3"
  },
  "language_info": {
   "codemirror_mode": {
    "name": "ipython",
    "version": 3
   },
   "file_extension": ".py",
   "mimetype": "text/x-python",
   "name": "python",
   "nbconvert_exporter": "python",
   "pygments_lexer": "ipython3",
   "version": "3.6.8"
  }
 },
 "nbformat": 4,
 "nbformat_minor": 4
}
