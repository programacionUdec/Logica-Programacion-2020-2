{
 "cells": [
  {
   "cell_type": "code",
   "execution_count": null,
   "metadata": {},
   "outputs": [],
   "source": [
    "#Programa: listas.ipynb\n",
    "#autor: miembros del grupo de trabajo\n",
    "#Objetivo del programa: entender listas y metodos con listas\n",
    "#Creado: miercoles 23 de sep 2020"
   ]
  },
  {
   "cell_type": "code",
   "execution_count": 15,
   "metadata": {},
   "outputs": [
    {
     "data": {
      "text/plain": [
       "str"
      ]
     },
     "execution_count": 15,
     "metadata": {},
     "output_type": "execute_result"
    }
   ],
   "source": [
    "#Las cadenas almacenan textos\n",
    "s='Hola Mundo'\n",
    "type(s)"
   ]
  },
  {
   "cell_type": "code",
   "execution_count": 6,
   "metadata": {},
   "outputs": [
    {
     "data": {
      "text/plain": [
       "10"
      ]
     },
     "execution_count": 6,
     "metadata": {},
     "output_type": "execute_result"
    }
   ],
   "source": [
    "#la funcion len() me devuelve la longitud de la cadena\n",
    "\n",
    "len(s)"
   ]
  },
  {
   "cell_type": "code",
   "execution_count": 8,
   "metadata": {},
   "outputs": [
    {
     "name": "stdout",
     "output_type": "stream",
     "text": [
      "Hola Universo\n"
     ]
    }
   ],
   "source": [
    "#puedo reemplazar una subcadena \n",
    "\n",
    "s2=s.replace(\"Mundo\", \"Universo\")\n",
    "print(s2)"
   ]
  },
  {
   "cell_type": "code",
   "execution_count": 17,
   "metadata": {},
   "outputs": [
    {
     "name": "stdout",
     "output_type": "stream",
     "text": [
      "H\n",
      "a\n",
      "Hola \n",
      "la Mu\n",
      "Hola Mundo\n"
     ]
    }
   ],
   "source": [
    "#Acceder a los elementos de las listas: Slice o rebanda de una cadena [desde:hasta]\n",
    "\n",
    "print(s[0])\n",
    "print(s[3])\n",
    "print(s[0:5]) #no incluye el extremo superior\n",
    "print(s[2:7])\n",
    "print(s[:]) #incluye toda la cadena"
   ]
  },
  {
   "cell_type": "code",
   "execution_count": 21,
   "metadata": {},
   "outputs": [
    {
     "name": "stdout",
     "output_type": "stream",
     "text": [
      "Hola Mundo\n",
      "Hl ud\n",
      "Hauo\n",
      "oa\n"
     ]
    }
   ],
   "source": [
    "#definiendo el paso [Inicio:Final:paso], por defecto el paso es 1 Slicing\n",
    "print(s[::1])\n",
    "print(s[::2])\n",
    "print(s[::3])\n",
    "print(s[1:5:2])"
   ]
  },
  {
   "cell_type": "code",
   "execution_count": 26,
   "metadata": {},
   "outputs": [
    {
     "name": "stdout",
     "output_type": "stream",
     "text": [
      "<class 'list'>\n",
      "4\n",
      "1\n",
      "[1, 2, 3]\n"
     ]
    }
   ],
   "source": [
    "#LISTAS: cada elemento puede ser de diferente tipo:\n",
    "\n",
    "l = [1,2,3,4]\n",
    "\n",
    "print(type(l))\n",
    "print(len(l))\n",
    "print(l[0])\n",
    "print(l[0:3])"
   ]
  },
  {
   "cell_type": "code",
   "execution_count": 27,
   "metadata": {},
   "outputs": [
    {
     "name": "stdout",
     "output_type": "stream",
     "text": [
      "[1, 'a', 1.0, (1-1j)]\n"
     ]
    }
   ],
   "source": [
    "H = [1, 'a', 1.0, 1-1j] #Los elementos de las listas pueden ser de diferente tipo\n",
    "\n",
    "print(H)"
   ]
  },
  {
   "cell_type": "code",
   "execution_count": null,
   "metadata": {},
   "outputs": [],
   "source": []
  }
 ],
 "metadata": {
  "kernelspec": {
   "display_name": "Python 3",
   "language": "python",
   "name": "python3"
  },
  "language_info": {
   "codemirror_mode": {
    "name": "ipython",
    "version": 3
   },
   "file_extension": ".py",
   "mimetype": "text/x-python",
   "name": "python",
   "nbconvert_exporter": "python",
   "pygments_lexer": "ipython3",
   "version": "3.6.8"
  }
 },
 "nbformat": 4,
 "nbformat_minor": 2
}
