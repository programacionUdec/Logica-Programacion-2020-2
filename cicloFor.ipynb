{
 "cells": [
  {
   "cell_type": "code",
   "execution_count": 1,
   "metadata": {},
   "outputs": [],
   "source": [
    "#Programa: ciclo_for.ipynb\n",
    "#autor: miembros del grupo de trabajo\n",
    "#Objetivo del programa: Programa para entender funcionamiento del ciclo for\n",
    "#Creado: miercoles 7 de octubre de 2020"
   ]
  },
  {
   "cell_type": "code",
   "execution_count": 3,
   "metadata": {},
   "outputs": [
    {
     "name": "stdout",
     "output_type": "stream",
     "text": [
      "False\n"
     ]
    }
   ],
   "source": [
    "#operador in :devuelve True si un elemento se encuentra dentro de otro.\n",
    "\n",
    "a = [3, 4] \n",
    "\n",
    "print(9 in a)"
   ]
  },
  {
   "cell_type": "code",
   "execution_count": 6,
   "metadata": {},
   "outputs": [
    {
     "name": "stdout",
     "output_type": "stream",
     "text": [
      "1\n",
      "2\n",
      "3\n"
     ]
    }
   ],
   "source": [
    "#Ciclos for usa objetos iterables \n",
    "\n",
    "H=[1,2,3]\n",
    "\n",
    "for x in H:\n",
    "    print(x)"
   ]
  },
  {
   "cell_type": "code",
   "execution_count": 11,
   "metadata": {},
   "outputs": [
    {
     "name": "stdout",
     "output_type": "stream",
     "text": [
      "1\n",
      "2\n",
      "3\n",
      "4\n",
      "5\n",
      "6\n",
      "7\n",
      "8\n",
      "9\n",
      "10\n"
     ]
    }
   ],
   "source": [
    "limites=10\n",
    "\n",
    "for i in range(1,11):\n",
    "    print(i)\n"
   ]
  },
  {
   "cell_type": "code",
   "execution_count": 12,
   "metadata": {},
   "outputs": [
    {
     "name": "stdout",
     "output_type": "stream",
     "text": [
      "0\n",
      "1\n",
      "2\n",
      "3\n"
     ]
    }
   ],
   "source": [
    "for x in range(4):\n",
    "    print(x)\n",
    "    "
   ]
  },
  {
   "cell_type": "code",
   "execution_count": 13,
   "metadata": {},
   "outputs": [
    {
     "name": "stdout",
     "output_type": "stream",
     "text": [
      "computación\n",
      "científica\n",
      "con\n",
      "Python\n"
     ]
    }
   ],
   "source": [
    "for palabra in [\"computación\", \"científica\", \"con\", \"Python\"]:\n",
    "    print(palabra)"
   ]
  },
  {
   "cell_type": "code",
   "execution_count": 18,
   "metadata": {},
   "outputs": [
    {
     "name": "stdout",
     "output_type": "stream",
     "text": [
      "0\n",
      "1\n",
      "4\n",
      "9\n",
      "16\n",
      "4\n"
     ]
    }
   ],
   "source": [
    "p=[0,1,2,3,4]\n",
    "for n in p:\n",
    "    print(n**2)\n",
    "    \n",
    "print(n)"
   ]
  },
  {
   "cell_type": "code",
   "execution_count": 15,
   "metadata": {},
   "outputs": [
    {
     "name": "stdout",
     "output_type": "stream",
     "text": [
      "el valor actual de n es: 0 n al cuadrado sera: 0\n",
      "el valor actual de n es: 1 n al cuadrado sera: 1\n",
      "el valor actual de n es: 2 n al cuadrado sera: 4\n",
      "el valor actual de n es: 3 n al cuadrado sera: 9\n",
      "el valor actual de n es: 4 n al cuadrado sera: 16\n"
     ]
    }
   ],
   "source": [
    "for n in range(0,5):\n",
    "    print('el valor actual de n es:',n,'n al cuadrado sera:',n**2)"
   ]
  },
  {
   "cell_type": "code",
   "execution_count": 19,
   "metadata": {},
   "outputs": [
    {
     "name": "stdout",
     "output_type": "stream",
     "text": [
      "Current Letter : P\n",
      "Current Letter : y\n",
      "Current Letter : t\n",
      "Current Letter : h\n",
      "Current Letter : o\n",
      "Current Letter : L\n",
      "L\n"
     ]
    }
   ],
   "source": [
    "#cada vez que recorremos el bucle(ciclo), se le asigna a la var letter\n",
    "#el siguiente caracter de la cadena hasta que no queden mas caracteres\n",
    "\n",
    "for letter in 'Python':   \n",
    "    print('Current Letter :', letter)\n",
    "\n",
    "print(letter)"
   ]
  },
  {
   "cell_type": "code",
   "execution_count": null,
   "metadata": {},
   "outputs": [],
   "source": []
  }
 ],
 "metadata": {
  "kernelspec": {
   "display_name": "Python 3",
   "language": "python",
   "name": "python3"
  },
  "language_info": {
   "codemirror_mode": {
    "name": "ipython",
    "version": 3
   },
   "file_extension": ".py",
   "mimetype": "text/x-python",
   "name": "python",
   "nbconvert_exporter": "python",
   "pygments_lexer": "ipython3",
   "version": "3.6.8"
  }
 },
 "nbformat": 4,
 "nbformat_minor": 4
}
