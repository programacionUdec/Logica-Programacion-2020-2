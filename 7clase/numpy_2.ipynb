{
 "cells": [
  {
   "cell_type": "code",
   "execution_count": 1,
   "metadata": {},
   "outputs": [],
   "source": [
    "#Programa: numpy_2.ipynb\n",
    "#@autor: @programacionUdec - logprog1\n",
    "#Propósito: aprender a usar los nparray\n",
    "#Creado el miercoles 4 de Nov de 2020"
   ]
  },
  {
   "cell_type": "code",
   "execution_count": 2,
   "metadata": {},
   "outputs": [
    {
     "name": "stdout",
     "output_type": "stream",
     "text": [
      "<class 'list'>\n"
     ]
    }
   ],
   "source": [
    "peso=[56.8,72.5,40.5]  #peso en kg\n",
    "altura=[1.70,1.55,1.48] #altura en m\n",
    "\n",
    "print(type(peso))\n",
    "#IMC=peso/(altura**2)"
   ]
  },
  {
   "cell_type": "code",
   "execution_count": 3,
   "metadata": {},
   "outputs": [
    {
     "name": "stdout",
     "output_type": "stream",
     "text": [
      "[19.65397924 30.17689906 18.48977356]\n",
      "3 (3,)\n",
      "<class 'numpy.ndarray'>\n"
     ]
    }
   ],
   "source": [
    "import numpy as np\n",
    "\n",
    "peso2=np.array(peso)\n",
    "altura2=np.array(altura)\n",
    "\n",
    "\n",
    "IMC2=peso2/(altura2**2)\n",
    "print(IMC2)\n",
    "\n",
    "print(len(peso2),peso2.shape)\n",
    "print(type(peso2))"
   ]
  },
  {
   "cell_type": "code",
   "execution_count": 4,
   "metadata": {},
   "outputs": [
    {
     "name": "stdout",
     "output_type": "stream",
     "text": [
      "[ 0  2  4  6  8 10 12 14 16 18]\n",
      "<class 'numpy.ndarray'>\n",
      "(10,)\n"
     ]
    }
   ],
   "source": [
    "array = np.arange(0,20,2) #array de numeros enteros\n",
    "print(array)\n",
    "print(type(array))\n",
    "print(array.shape)"
   ]
  },
  {
   "cell_type": "code",
   "execution_count": 5,
   "metadata": {},
   "outputs": [
    {
     "name": "stdout",
     "output_type": "stream",
     "text": [
      "6\n"
     ]
    }
   ],
   "source": [
    "print(array[3])"
   ]
  },
  {
   "cell_type": "code",
   "execution_count": 6,
   "metadata": {},
   "outputs": [
    {
     "name": "stdout",
     "output_type": "stream",
     "text": [
      "[[ 0  1  2  3  4]\n",
      " [ 5  6  7  8  9]\n",
      " [10 11 12 13 14]\n",
      " [15 16 17 18 19]] (4, 5)\n"
     ]
    }
   ],
   "source": [
    "#puedo redimensionar el array. es decir pasar de array 1D a uno ND. ejemplo. 1D a una matriz 4X5\n",
    "array2 = np.arange(0,20).reshape(4,5)  #reshape(rows,cols)\n",
    "print(array2,array2.shape)"
   ]
  },
  {
   "cell_type": "code",
   "execution_count": 7,
   "metadata": {},
   "outputs": [
    {
     "name": "stdout",
     "output_type": "stream",
     "text": [
      "9\n"
     ]
    }
   ],
   "source": [
    "print(array2[1][4]) #acceder a un elemento particula de la matrix creada"
   ]
  },
  {
   "cell_type": "code",
   "execution_count": 8,
   "metadata": {},
   "outputs": [
    {
     "name": "stdout",
     "output_type": "stream",
     "text": [
      "[[1 2]\n",
      " [3 4]] (2, 2)\n"
     ]
    }
   ],
   "source": [
    "y=np.array([[1, 2], [3, 4]]) #matriz 2X2\n",
    "\n",
    "print(y,y.shape)"
   ]
  },
  {
   "cell_type": "code",
   "execution_count": 9,
   "metadata": {},
   "outputs": [
    {
     "name": "stdout",
     "output_type": "stream",
     "text": [
      "[1.+0.j 2.+0.j 3.+0.j]\n"
     ]
    }
   ],
   "source": [
    "complejo=np.array([1, 2, 3], dtype=complex)  #array de numeros complejos\n",
    "\n",
    "print(complejo)"
   ]
  },
  {
   "cell_type": "code",
   "execution_count": 10,
   "metadata": {},
   "outputs": [
    {
     "name": "stdout",
     "output_type": "stream",
     "text": [
      "[[1 2 3]\n",
      " [4 5 6]] (2, 3)\n"
     ]
    }
   ],
   "source": [
    "b = np.array([[1,2,3],[4,5,6]])\n",
    "\n",
    "print(b,b.shape)"
   ]
  },
  {
   "cell_type": "code",
   "execution_count": 11,
   "metadata": {},
   "outputs": [
    {
     "name": "stdout",
     "output_type": "stream",
     "text": [
      "1 2 4\n"
     ]
    }
   ],
   "source": [
    "print(b[0, 0], b[0, 1], b[1, 0])"
   ]
  },
  {
   "cell_type": "code",
   "execution_count": 12,
   "metadata": {},
   "outputs": [
    {
     "name": "stdout",
     "output_type": "stream",
     "text": [
      "[[ 1  2  3]\n",
      " [ 4  5  6]\n",
      " [ 7  8  9]\n",
      " [10 11 20]]\n"
     ]
    }
   ],
   "source": [
    "a = np.array([[1,2,3], [4,5,6], [7,8,9], [10, 11, 20]])\n",
    "print(a)"
   ]
  },
  {
   "cell_type": "code",
   "execution_count": 13,
   "metadata": {},
   "outputs": [
    {
     "name": "stdout",
     "output_type": "stream",
     "text": [
      "[[False False  True]\n",
      " [ True  True  True]\n",
      " [ True  True  True]\n",
      " [ True  True  True]]\n",
      "[ 3  4  5  6  7  8  9 10 11 20]\n"
     ]
    }
   ],
   "source": [
    "TF=(a>2)\n",
    "print(TF)\n",
    "print(a[TF])"
   ]
  },
  {
   "cell_type": "code",
   "execution_count": 14,
   "metadata": {},
   "outputs": [
    {
     "name": "stdout",
     "output_type": "stream",
     "text": [
      "[ True False  True False  True]\n",
      "[0 2 0]\n"
     ]
    }
   ],
   "source": [
    "# in1d Test whether each element of a 1-D array is also present in a second array.\n",
    "\n",
    "test = np.array([0, 1, 2, 5, 0])\n",
    "states = [0, 2]\n",
    "\n",
    "mask= np.in1d(test,states)#buscar si los elementos de la lista states estan en el array test\n",
    "\n",
    "print(mask)\n",
    "print(test[mask])"
   ]
  },
  {
   "cell_type": "code",
   "execution_count": 15,
   "metadata": {},
   "outputs": [
    {
     "name": "stdout",
     "output_type": "stream",
     "text": [
      "[ True  True]\n"
     ]
    }
   ],
   "source": [
    "mask2=np.in1d(states,test)\n",
    "\n",
    "print(mask2)\n"
   ]
  },
  {
   "cell_type": "code",
   "execution_count": 16,
   "metadata": {},
   "outputs": [
    {
     "name": "stdout",
     "output_type": "stream",
     "text": [
      "[[1. 2.]\n",
      " [3. 4.]]\n",
      "[[5. 6.]\n",
      " [7. 8.]]\n"
     ]
    }
   ],
   "source": [
    "####operaciones\n",
    "\n",
    "x = np.array([[1,2],[3,4]], dtype=np.float64)  #los enteros los convierte en tipo flotante\n",
    "y = np.array([[5,6],[7,8]], dtype=np.float64)\n",
    "\n",
    "\n",
    "print(x)\n",
    "print(y)"
   ]
  },
  {
   "cell_type": "code",
   "execution_count": 17,
   "metadata": {},
   "outputs": [
    {
     "name": "stdout",
     "output_type": "stream",
     "text": [
      "[[ 6.  8.]\n",
      " [10. 12.]]\n",
      "[[ 6.  8.]\n",
      " [10. 12.]]\n"
     ]
    }
   ],
   "source": [
    "print(x + y)\n",
    "print(np.add(x, y))"
   ]
  },
  {
   "cell_type": "code",
   "execution_count": 18,
   "metadata": {},
   "outputs": [
    {
     "name": "stdout",
     "output_type": "stream",
     "text": [
      "[[-4. -4.]\n",
      " [-4. -4.]]\n",
      "[[-4. -4.]\n",
      " [-4. -4.]]\n"
     ]
    }
   ],
   "source": [
    "print(x - y)\n",
    "print(np.subtract(x,y))"
   ]
  },
  {
   "cell_type": "code",
   "execution_count": 19,
   "metadata": {},
   "outputs": [
    {
     "name": "stdout",
     "output_type": "stream",
     "text": [
      "[[ 5. 12.]\n",
      " [21. 32.]]\n",
      "[[ 5. 12.]\n",
      " [21. 32.]]\n"
     ]
    }
   ],
   "source": [
    "print(x * y)  #multiplicacion elemento a elemento\n",
    "print(np.multiply(x, y))"
   ]
  },
  {
   "cell_type": "code",
   "execution_count": 20,
   "metadata": {},
   "outputs": [
    {
     "name": "stdout",
     "output_type": "stream",
     "text": [
      "[[0.2        0.33333333]\n",
      " [0.42857143 0.5       ]]\n",
      "[[0.2        0.33333333]\n",
      " [0.42857143 0.5       ]]\n"
     ]
    }
   ],
   "source": [
    "print(x / y)\n",
    "print(np.divide(x, y))"
   ]
  },
  {
   "cell_type": "code",
   "execution_count": 21,
   "metadata": {},
   "outputs": [
    {
     "name": "stdout",
     "output_type": "stream",
     "text": [
      "[[1. 3.]\n",
      " [2. 4.]]\n",
      "[[1. 2.]\n",
      " [3. 4.]]\n"
     ]
    }
   ],
   "source": [
    "print(x.T)  #transpuesta \n",
    "\n",
    "print(x)\n",
    "\n",
    "#revisar https://docs.scipy.org/doc/numpy/reference/"
   ]
  },
  {
   "cell_type": "code",
   "execution_count": 22,
   "metadata": {},
   "outputs": [
    {
     "name": "stdout",
     "output_type": "stream",
     "text": [
      "[0, 1, 2] [56.8 72.5 40.5] [1.7  1.55 1.48] [19.65397924 30.17689906 18.48977356]\n"
     ]
    }
   ],
   "source": [
    "peso=[56.8,72.5,40.5]  #peso en kg\n",
    "altura=[1.70,1.55,1.48] #altura en m\n",
    "\n",
    "peso2=np.array(peso)\n",
    "altura2=np.array(altura)\n",
    "\n",
    "IMC2=peso2/(altura2**2)\n",
    "\n",
    "ID=list(range(0,len(IMC2)))\n",
    "\n",
    "\n",
    "print(ID,peso2,altura2,IMC2)"
   ]
  },
  {
   "cell_type": "code",
   "execution_count": 23,
   "metadata": {},
   "outputs": [
    {
     "name": "stdout",
     "output_type": "stream",
     "text": [
      "[[ 0.         56.8         1.7        19.65397924]\n",
      " [ 1.         72.5         1.55       30.17689906]\n",
      " [ 2.         40.5         1.48       18.48977356]]\n"
     ]
    }
   ],
   "source": [
    "\n",
    "juntando=np.array(list(zip(ID,peso2,altura2,IMC2)))  #las filas se volvieron columnas Todas en un objeto. los\n",
    "                                                #los pesos por ejemplo tienen la columna0. altura columna 1\n",
    "                                                #y IMC en la columna 2\n",
    "print(juntando)"
   ]
  },
  {
   "cell_type": "code",
   "execution_count": 32,
   "metadata": {},
   "outputs": [
    {
     "data": {
      "image/png": "[encoded data removed]",
      "text/plain": [
       "<Figure size 432x288 with 1 Axes>"
      ]
     },
     "metadata": {
      "needs_background": "light"
     },
     "output_type": "display_data"
    }
   ],
   "source": [
    "import matplotlib.pyplot as plt\n",
    "\n",
    "plt.plot(altura2,peso2,label='IMC')\n",
    "plt.xlabel('altura (m)')\n",
    "plt.ylabel('peso (kg)')\n",
    "plt.title('un título')\n",
    "plt.legend()\n",
    "plt.grid()\n",
    "plt.show()"
   ]
  },
  {
   "cell_type": "code",
   "execution_count": 36,
   "metadata": {},
   "outputs": [
    {
     "name": "stdout",
     "output_type": "stream",
     "text": [
      "[0 1 2 3 4] [ 0  1  4  9 16]\n"
     ]
    },
    {
     "data": {
      "text/plain": [
       "[<matplotlib.lines.Line2D at 0x1174455f8>]"
      ]
     },
     "execution_count": 36,
     "metadata": {},
     "output_type": "execute_result"
    },
    {
     "data": {
      "image/png": "[encoded data removed]",
      "text/plain": [
       "<Figure size 432x288 with 1 Axes>"
      ]
     },
     "metadata": {
      "needs_background": "light"
     },
     "output_type": "display_data"
    }
   ],
   "source": [
    "x=np.array(range(0,5))\n",
    "y= x**2\n",
    "print(x,y)\n",
    "\n",
    "plt.plot(x,y,marker='o')"
   ]
  },
  {
   "cell_type": "code",
   "execution_count": 37,
   "metadata": {},
   "outputs": [
    {
     "data": {
      "text/plain": [
       "array([3, 5, 4])"
      ]
     },
     "execution_count": 37,
     "metadata": {},
     "output_type": "execute_result"
    }
   ],
   "source": [
    "def funcion(x):\n",
    "    x=np.array(x)\n",
    "    y=x+2\n",
    "    return y\n",
    "\n",
    "funcion([1,3,2])"
   ]
  },
  {
   "cell_type": "code",
   "execution_count": 40,
   "metadata": {},
   "outputs": [
    {
     "name": "stdout",
     "output_type": "stream",
     "text": [
      "9.333333333333334 28 8.0\n"
     ]
    }
   ],
   "source": [
    "promedio=np.mean(funcion([2,14,6]) )\n",
    "suma=np.sum(funcion([2,14,6]))\n",
    "mediana=np.median(funcion([2,14,6]) )\n",
    "\n",
    "print(promedio,suma,mediana)"
   ]
  },
  {
   "cell_type": "code",
   "execution_count": 44,
   "metadata": {},
   "outputs": [
    {
     "name": "stdout",
     "output_type": "stream",
     "text": [
      "Retorna el promedio, minimo y maximo de una lista de numeros. La lista ingresada es:  [ 1 25 90]\n",
      "El promedio, minimio y maximo de su lista es:\n",
      "(38.666666666666664, 1, 90)\n"
     ]
    }
   ],
   "source": [
    "def estadistico(a): #estadisticos basicos incluyendo numpy\n",
    "    a=np.asarray(a)\n",
    "    print(\"Retorna el promedio, minimo y maximo de una lista de numeros. La lista ingresada es: \",a)\n",
    "    prom=sum(a)/len(a)\n",
    "    minimo=np.min(a)\n",
    "    maximo=np.max(a)\n",
    "    print(\"El promedio, minimio y maximo de su lista es:\")\n",
    "    return prom,minimo,maximo\n",
    "\n",
    "#estadistico([1,25,90])\n",
    "\n",
    "h= estadistico([1,25,90])\n",
    "\n",
    "print(h)"
   ]
  },
  {
   "cell_type": "code",
   "execution_count": 46,
   "metadata": {},
   "outputs": [],
   "source": [
    "guardar=np.savetxt('./reporte.txt',h,fmt='%2f')#escribe el archivo con los datos\n"
   ]
  },
  {
   "cell_type": "code",
   "execution_count": 48,
   "metadata": {},
   "outputs": [
    {
     "name": "stdout",
     "output_type": "stream",
     "text": [
      "[38.666667  1.       90.      ]\n"
     ]
    }
   ],
   "source": [
    "leer=np.loadtxt('./reporte.txt')\n",
    "\n",
    "print(leer)"
   ]
  },
  {
   "cell_type": "code",
   "execution_count": 54,
   "metadata": {},
   "outputs": [
    {
     "name": "stdout",
     "output_type": "stream",
     "text": [
      "[ 0.  1.  2.  3.  4.  5.  6.  7.  8.  9. 10. 11. 12. 13. 14. 15. 16. 17.\n",
      " 18. 19.] [ 96.  90.  71.  80.  78.  99.  87. 116.  83.  85.  93. 100.  89. 100.\n",
      "  81.  69.  63.  73.  90. 121.]\n"
     ]
    }
   ],
   "source": [
    "leer2=np.loadtxt('/Users/usuario-mac/Desktop/CLASES/programacion/3Corte/funciones/clase.dat')\n",
    "#leer2=np.loadtxt('./clase.dat')\n",
    "\n",
    "col1=leer2[:,0]\n",
    "col2=leer2[:,1]\n",
    "col3=leer2[:,2]\n",
    "col4=leer2[:,3]\n",
    "col5=leer2[:,4]\n",
    "col6=leer2[:,5]\n",
    "\n",
    "print(col1,col2)\n",
    "#print(leer2)"
   ]
  },
  {
   "cell_type": "code",
   "execution_count": 74,
   "metadata": {},
   "outputs": [
    {
     "data": {
      "image/png": "[encoded data removed]",
      "text/plain": [
       "<Figure size 432x288 with 1 Axes>"
      ]
     },
     "metadata": {
      "needs_background": "light"
     },
     "output_type": "display_data"
    }
   ],
   "source": [
    "plt.plot(col1,col4,label='linea 1',marker='o',c='b')\n",
    "plt.plot(col1,col3,label='linea 2',marker='*',c='r')\n",
    "plt.xlabel('eje x')\n",
    "plt.ylabel('eje y')\n",
    "plt.title('algún título que tiene que ver con la gráfica')\n",
    "plt.legend()\n",
    "plt.savefig('/Users/usuario-mac/Desktop/CLASES/programacion/2020-2/mifigura.png')"
   ]
  },
  {
   "cell_type": "code",
   "execution_count": 72,
   "metadata": {},
   "outputs": [],
   "source": [
    "guardar2=np.savetxt('/Users/usuario-mac/Desktop/CLASES/programacion/2020-2/test.txt',np.c_[col1,col2],fmt='%2f')"
   ]
  },
  {
   "cell_type": "code",
   "execution_count": null,
   "metadata": {},
   "outputs": [],
   "source": []
  }
 ],
 "metadata": {
  "kernelspec": {
   "display_name": "Python 3",
   "language": "python",
   "name": "python3"
  },
  "language_info": {
   "codemirror_mode": {
    "name": "ipython",
    "version": 3
   },
   "file_extension": ".py",
   "mimetype": "text/x-python",
   "name": "python",
   "nbconvert_exporter": "python",
   "pygments_lexer": "ipython3",
   "version": "3.6.8"
  }
 },
 "nbformat": 4,
 "nbformat_minor": 4
}
