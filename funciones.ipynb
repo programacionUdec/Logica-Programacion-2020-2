{
 "cells": [
  {
   "cell_type": "code",
   "execution_count": 1,
   "metadata": {},
   "outputs": [],
   "source": [
    "#-*- coding: utf-8 -*-\n",
    "#Programa: funciones.py\n",
    "#@autor: @programacionUdec - logprog1\n",
    "#Propósito: revisar el tema de funciones, lectura y escritura de archivos, modulo numpy y mathplotlib\n",
    "#creado 28 de octubre 2020"
   ]
  },
  {
   "cell_type": "code",
   "execution_count": 5,
   "metadata": {},
   "outputs": [
    {
     "name": "stdout",
     "output_type": "stream",
     "text": [
      "2.0\n"
     ]
    }
   ],
   "source": [
    "import math as math\n",
    "\n",
    "s= math.log10(100)\n",
    "\n",
    "print(s)"
   ]
  },
  {
   "cell_type": "code",
   "execution_count": 14,
   "metadata": {},
   "outputs": [
    {
     "data": {
      "text/plain": [
       "0.9469979462749247"
      ]
     },
     "execution_count": 14,
     "metadata": {},
     "output_type": "execute_result"
    }
   ],
   "source": [
    "import random\n",
    "\n",
    "random.random() #se genera un número 'aleatorio'"
   ]
  },
  {
   "cell_type": "code",
   "execution_count": 23,
   "metadata": {},
   "outputs": [
    {
     "data": {
      "text/plain": [
       "6"
      ]
     },
     "execution_count": 23,
     "metadata": {},
     "output_type": "execute_result"
    }
   ],
   "source": [
    "random.randint(-3,10) #numero aleatorio ENTERO entre -3 y 10"
   ]
  },
  {
   "cell_type": "code",
   "execution_count": 33,
   "metadata": {},
   "outputs": [
    {
     "data": {
      "text/plain": [
       "4"
      ]
     },
     "execution_count": 33,
     "metadata": {},
     "output_type": "execute_result"
    }
   ],
   "source": [
    "random.randrange(10)"
   ]
  },
  {
   "cell_type": "code",
   "execution_count": 41,
   "metadata": {},
   "outputs": [
    {
     "name": "stdout",
     "output_type": "stream",
     "text": [
      "1 7 6\n"
     ]
    }
   ],
   "source": [
    "list=[1,4,2,6,7]  #puedo crear una lista de numeros y elegir numeros aleatorios unicamente de la lista\n",
    "\n",
    "e=random.choice(list)\n",
    "minimo=min(list)\n",
    "maximo=max(list)\n",
    "\n",
    "print(minimo, maximo,e)"
   ]
  },
  {
   "cell_type": "code",
   "execution_count": 47,
   "metadata": {},
   "outputs": [
    {
     "name": "stdout",
     "output_type": "stream",
     "text": [
      "Hola\tDiana\n",
      "Hola\tMarisol\n",
      "Hola\tMarlom\n"
     ]
    }
   ],
   "source": [
    "def saludar(persona):\n",
    "    print('Hola''\\t'+  persona)\n",
    "\n",
    "saludar('Diana')\n",
    "saludar('Marisol')\n",
    "saludar('Marlom')\n"
   ]
  },
  {
   "cell_type": "code",
   "execution_count": 51,
   "metadata": {},
   "outputs": [
    {
     "name": "stdout",
     "output_type": "stream",
     "text": [
      "apple\n",
      "banana\n",
      "cherry\n",
      "hamburguesa\n",
      "papitas fritas\n",
      "doritos\n"
     ]
    }
   ],
   "source": [
    "def my_food(food):\n",
    "    for i in food:\n",
    "        print(i)\n",
    "        \n",
    "fruits = [\"apple\",'banana', \"cherry\"]\n",
    "chatarrazo=['hamburguesa','papitas fritas','doritos']\n",
    "\n",
    "my_food(fruits)\n",
    "my_food(chatarrazo)"
   ]
  },
  {
   "cell_type": "code",
   "execution_count": 56,
   "metadata": {},
   "outputs": [
    {
     "name": "stdout",
     "output_type": "stream",
     "text": [
      "los estudiantes de la univerisidad UDEC programacion son muy juiciosos\n"
     ]
    }
   ],
   "source": [
    "def felicitacion(universidad,curso):\n",
    "    print('los estudiantes de la univerisidad',universidad,curso, 'son muy juiciosos')\n",
    "    \n",
    "felicitacion('UDEC','programacion')"
   ]
  },
  {
   "cell_type": "code",
   "execution_count": 59,
   "metadata": {},
   "outputs": [
    {
     "name": "stdin",
     "output_type": "stream",
     "text": [
      "ingrese un numero entero 89\n"
     ]
    },
    {
     "name": "stdout",
     "output_type": "stream",
     "text": [
      "el numero 89 ingresado es positivo\n"
     ]
    }
   ],
   "source": [
    "def signos(x):\n",
    "    if x<0:\n",
    "        print('el numero',x,'ingresado es negativo')\n",
    "    elif x>0:\n",
    "        print('el numero',x,'ingresado es positivo')\n",
    "    elif x==0:\n",
    "        print('el numero',x,'ingresado es cero') #funcio tipo void, se opera al interior dela función y no puedo operar con ese valor\n",
    "        \n",
    "h=int(input('ingrese un numero entero'))\n",
    "\n",
    "signos(h)\n",
    "    "
   ]
  },
  {
   "cell_type": "code",
   "execution_count": 71,
   "metadata": {},
   "outputs": [
    {
     "name": "stdin",
     "output_type": "stream",
     "text": [
      "ingrese un numero entero 2\n",
      "ingrese un numero entero 3\n"
     ]
    },
    {
     "data": {
      "text/plain": [
       "14"
      ]
     },
     "execution_count": 71,
     "metadata": {},
     "output_type": "execute_result"
    }
   ],
   "source": [
    "def cuadrado(x,z):\n",
    "    y=x**2+z\n",
    "    #print(y)\n",
    "    return y #esta funcion retorna un valor, el retorno indica lo retornado por la funciom\n",
    "\n",
    "j=int(input('ingrese un numero entero'))\n",
    "l=int(input('ingrese un numero entero'))\n",
    "\n",
    "cuadrado(j,l)*2\n",
    "#print(type(cuadrado(2,1)))"
   ]
  },
  {
   "cell_type": "code",
   "execution_count": 70,
   "metadata": {},
   "outputs": [
    {
     "data": {
      "text/plain": [
       "(6, 4, 5)"
      ]
     },
     "execution_count": 70,
     "metadata": {},
     "output_type": "execute_result"
    }
   ],
   "source": [
    "def funcionando(a,b,c,e,f):\n",
    "    z=a+b+c\n",
    "    return(z,e,f)\n",
    "\n",
    "funcionando(1,2,3,4,5)"
   ]
  },
  {
   "cell_type": "code",
   "execution_count": 74,
   "metadata": {},
   "outputs": [
    {
     "data": {
      "text/plain": [
       "(3, 8, 'a')"
      ]
     },
     "execution_count": 74,
     "metadata": {},
     "output_type": "execute_result"
    }
   ],
   "source": [
    "def corazoncito():\n",
    "    z=3\n",
    "    e=5+z\n",
    "    f='a'\n",
    "    return(z,e,f)\n",
    "\n",
    "corazoncito()"
   ]
  },
  {
   "cell_type": "code",
   "execution_count": null,
   "metadata": {},
   "outputs": [],
   "source": []
  }
 ],
 "metadata": {
  "kernelspec": {
   "display_name": "Python 3",
   "language": "python",
   "name": "python3"
  },
  "language_info": {
   "codemirror_mode": {
    "name": "ipython",
    "version": 3
   },
   "file_extension": ".py",
   "mimetype": "text/x-python",
   "name": "python",
   "nbconvert_exporter": "python",
   "pygments_lexer": "ipython3",
   "version": "3.6.8"
  }
 },
 "nbformat": 4,
 "nbformat_minor": 4
}
