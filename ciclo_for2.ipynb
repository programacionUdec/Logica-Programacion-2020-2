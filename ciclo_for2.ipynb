{
 "cells": [
  {
   "cell_type": "code",
   "execution_count": 1,
   "metadata": {},
   "outputs": [],
   "source": [
    "#Programa: ciclo_for2.ipynb\n",
    "#autor: miembros del grupo de trabajo\n",
    "#Objetivo del programa: segunda parte del Programa para entender funcionamiento del ciclo for\n",
    "#Creado: miercoles 14 de octubre de 2020"
   ]
  },
  {
   "cell_type": "code",
   "execution_count": 2,
   "metadata": {},
   "outputs": [
    {
     "name": "stdout",
     "output_type": "stream",
     "text": [
      "Hello Now i is 3 and its squared is 9\n",
      "Hello Now i is 4 and its squared is 16\n",
      "Hello Now i is 5 and its squared is 25\n",
      "Hello Now i is 100 and its squared is 10000\n"
     ]
    }
   ],
   "source": [
    "for i in [3, 4, 5,100]:\n",
    "    print(f\"Hello Now i is {i} and its squared is {i ** 2}\")"
   ]
  },
  {
   "cell_type": "code",
   "execution_count": 5,
   "metadata": {},
   "outputs": [
    {
     "name": "stdout",
     "output_type": "stream",
     "text": [
      "imprime el valor de i es: 0 \n",
      " i * i = 0\n",
      "imprime el valor de i es: 1 \n",
      " i * i = 1\n",
      "imprime el valor de i es: 2 \n",
      " i * i = 4\n",
      "imprime el valor de i es: 3 \n",
      " i * i = 9\n",
      "imprime el valor de i es: 4 \n",
      " i * i = 16\n",
      "imprime el valor de i es: 90 \n",
      " i * i = 8100\n"
     ]
    }
   ],
   "source": [
    "#Definiendo el valor inicial\n",
    "i = 10\n",
    "#print(i)\n",
    "for i in [0, 1, 2, 3, 4,90]:\n",
    "    print('imprime el valor de i es:', i, '\\n', 'i * i =', i ** 2)\n",
    "    \n",
    "#tener cuidado con sobre escribir las variables"
   ]
  },
  {
   "cell_type": "code",
   "execution_count": 22,
   "metadata": {},
   "outputs": [
    {
     "name": "stdout",
     "output_type": "stream",
     "text": [
      "La suma de los numeros del 1 al 4 es: 1\n",
      "La suma de los numeros del 1 al 4 es: 3\n",
      "La suma de los numeros del 1 al 4 es: 6\n",
      "La suma de los numeros del 1 al 4 es: 10\n",
      "La suma de los números de 1 a 4 es: 10\n"
     ]
    }
   ],
   "source": [
    "#Acumuladores: Variable que acumula (guarda un resultado)\n",
    "suma=0\n",
    "for k in [1, 2, 3, 4]:\n",
    "    suma=suma +k  #forma abreviada suma+=k\n",
    "    print('La suma de los numeros del 1 al 4 es:',suma)\n",
    "\n",
    "print('La suma de los números de 1 a 4 es:',suma)\n",
    "\n",
    "#print('La suma de los números de 1 a 4 es:',suma) imprime el ULTIMO valor del acumulador\n",
    "\n",
    "#el acumulador se modifica en cada iteración del bucle (en este caso, \n",
    "#el valor de k se añade al acumulador suma).\n",
    "#Antes del bucle se debe dar un valor inicial al acumulador (en este caso, 0)"
   ]
  },
  {
   "cell_type": "code",
   "execution_count": 13,
   "metadata": {},
   "outputs": [
    {
     "name": "stdout",
     "output_type": "stream",
     "text": [
      "la multiplicación de los numeros del 1 al 4 es:  1\n",
      "la multiplicación de los numeros del 1 al 4 es:  2\n",
      "la multiplicación de los numeros del 1 al 4 es:  6\n",
      "la multiplicación de los numeros del 1 al 4 es:  24\n",
      "el valor final de la multiplicación es:  24\n"
     ]
    }
   ],
   "source": [
    "multiplicacion=1\n",
    "for j in [1,2,3,4]:\n",
    "    multiplicacion=multiplicacion*j\n",
    "    print('la multiplicación de los numeros del 1 al 4 es: ',multiplicacion)\n",
    "    \n",
    "print('el valor final de la multiplicación es: ', multiplicacion)"
   ]
  },
  {
   "cell_type": "code",
   "execution_count": 21,
   "metadata": {},
   "outputs": [
    {
     "name": "stdout",
     "output_type": "stream",
     "text": [
      "El valor de 1 NO es multiplo de 2\n",
      "El valor de 2 es multiplo de 2 y hay 1 multiplos de 2\n",
      "El valor de 3 NO es multiplo de 2\n",
      "El valor de 4 es multiplo de 2 y hay 2 multiplos de 2\n",
      "El valor de 5 NO es multiplo de 2\n",
      "Existen 2 multiplos de 2\n"
     ]
    }
   ],
   "source": [
    "#Contadores: una variable que lleva la cuenta del número \n",
    "#de veces que se ha cumplido una condición\n",
    "\n",
    "cuenta = 0 #inicializar el contador\n",
    "for l in range(1,6):#1,2,3,4,5\n",
    "    if l%2==0:\n",
    "        cuenta=cuenta+1 #forma abreviada cuenta+=1\n",
    "        print('El valor de',l,'es multiplo de 2 y hay',cuenta,'multiplos de 2')\n",
    "    \n",
    "    else:\n",
    "        \n",
    "        print('El valor de',l,'NO es multiplo de 2')\n",
    "\n",
    "\n",
    "\n",
    "print('Existen',cuenta,'multiplos de 2')\n",
    "\n",
    "\n",
    "#Antes del bucle se debe dar un valor inicial al contador (en este caso, 0)\n",
    "#   En cada iteración, el programa comprueba si l es múltiplo de 2.\n",
    "#   El contador se modifica sólo si la variable de control l es múltiplo de 2.\n",
    "#   El contador va aumentando de uno en uno."
   ]
  },
  {
   "cell_type": "code",
   "execution_count": null,
   "metadata": {},
   "outputs": [],
   "source": []
  }
 ],
 "metadata": {
  "kernelspec": {
   "display_name": "Python 3",
   "language": "python",
   "name": "python3"
  },
  "language_info": {
   "codemirror_mode": {
    "name": "ipython",
    "version": 3
   },
   "file_extension": ".py",
   "mimetype": "text/x-python",
   "name": "python",
   "nbconvert_exporter": "python",
   "pygments_lexer": "ipython3",
   "version": "3.6.8"
  }
 },
 "nbformat": 4,
 "nbformat_minor": 4
}
